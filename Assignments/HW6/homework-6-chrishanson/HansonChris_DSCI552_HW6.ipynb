{
 "cells": [
  {
   "cell_type": "code",
   "execution_count": 32,
   "metadata": {},
   "outputs": [],
   "source": [
    "import numpy as np\n",
    "import pandas as pd\n",
    "import matplotlib.pyplot as plt\n",
    "import scipy.io as sio\n",
    "import statsmodels.api as sm\n",
    "from sklearn.svm import LinearSVC\n",
    "import math\n",
    "import statistics\n",
    "from sklearn.metrics import classification_report, confusion_matrix, plot_roc_curve, precision_recall_fscore_support, roc_auc_score, roc_curve\n",
    "from sklearn.model_selection import GridSearchCV, train_test_split\n",
    "from sklearn.preprocessing import normalize\n",
    "from sklearn.cluster import KMeans, SpectralClustering\n",
    "from scipy import stats\n",
    "from sklearn.neighbors import KNeighborsClassifier"
   ]
  },
  {
   "cell_type": "markdown",
   "metadata": {},
   "source": [
    "569 instances, 32 attributes. B is negative, M is positive. Features are from a digitized image of a fine needle aspirate of a breast mass, describing characteristics of the cell nuclei present in the image. "
   ]
  },
  {
   "cell_type": "markdown",
   "metadata": {},
   "source": [
    "<h1><center>1. Supervised, Semi-Supervised, and Unsupervised Learning </center></h1>"
   ]
  },
  {
   "cell_type": "markdown",
   "metadata": {},
   "source": [
    "__1. (a) Download the Breast Cancer Wisconsin Data Set. Use the first 20% of the positive and negative classes in the file as the test set and the rest as the training set.__"
   ]
  },
  {
   "cell_type": "code",
   "execution_count": 2,
   "metadata": {},
   "outputs": [],
   "source": [
    "#Import dataset\n",
    "BCdf1 = pd.read_csv('Data\\wdbc.csv', header=None)\n",
    "BCdf1 = BCdf1.drop(columns = 0) #569x31\n",
    "BCTarget = BCdf1.iloc[:,0]\n",
    "BCdf = BCdf1.drop(columns = 1)\n",
    "#BCdf = BCdf.drop(columns = 1)\n",
    "#BCdf = BCdf.T.reset_index(drop=True).T.reset_index(drop=True)\n",
    "BCM = BCdf1[BCdf1.iloc[:,0] == 'M'] #212x31\n",
    "BCB = BCdf1[BCdf1.iloc[:,0] == 'B'] #357x31\n",
    "BCMTestDF1 = BCM.iloc[0:41,:] #41x31\n",
    "BCMTrainDF1 = BCM.iloc[41:,:] #171x31\n",
    "BCBTestDF1 = BCB.iloc[0:71,:] #71x31\n",
    "BCBTrainDF1 = BCB.iloc[71:,:] #286x31\n",
    "BCMTestTarget = BCMTestDF1.iloc[:,0] #41x1\n",
    "BCMTestDF = BCMTestDF1.drop(columns = 1) #41x30\n",
    "BCMTrainTarget = BCMTrainDF1.iloc[:,0] #171x1\n",
    "BCMTrainDF = BCMTrainDF1.drop(columns = 1) #171x30\n",
    "BCBTestTarget = BCBTestDF1.iloc[:,0] #71x1\n",
    "BCBTestDF = BCBTestDF1.drop(columns = 1) #71x30\n",
    "BCBTrainTarget = BCBTrainDF1.iloc[:,0] #286x1\n",
    "BCBTrainDF = BCBTrainDF1.drop(columns = 1) #286x30\n",
    "#Re-integrate train and test DF's and their targets\n",
    "BCTestDF = pd.concat([BCMTestDF, BCBTestDF]).sort_index() #112x30\n",
    "BCTestTarget = pd.concat([BCMTestTarget, BCBTestTarget]).sort_index() #112x1\n",
    "BCTrainDF = pd.concat([BCMTrainDF, BCBTrainDF]).sort_index() #457x30\n",
    "BCTrainTarget = pd.concat([BCMTrainTarget, BCBTrainTarget]).sort_index() #457x1"
   ]
  },
  {
   "cell_type": "markdown",
   "metadata": {},
   "source": [
    "__1. (b) Monte-Carlo Simulation: Repeat the following procedures for supervised, unsupervised, and semi-supervised learning M=30 times, and use randomly selected train and test data (make sure to use 20% of both the positive and negative classes as the test set). Then compare the average scores (accuracy, precision, recall, F1-score, and AUC) that are obtained from each algorithm.__"
   ]
  },
  {
   "cell_type": "markdown",
   "metadata": {},
   "source": [
    "__1. (b) i. Supervised Learning: Train an L1 penalized SVM to classify the data. Use 5 fold cross validation to choose the penalty parameter. Use normalized data. Report the average accuracy, precision, recall, F1 score, and AUC for both training and test sets over the M runs. Plot the ROC and report the confusion matrix for training and testing in one of the runs. (see note about probabilities)__"
   ]
  },
  {
   "cell_type": "code",
   "execution_count": 3,
   "metadata": {},
   "outputs": [],
   "source": [
    "Cgrid = []\n",
    "a = np.arange(-6,9, dtype=float)\n",
    "for i in a:\n",
    "    b = 10**i\n",
    "    Cgrid.append(b)\n",
    "Lparameters = {'C' : Cgrid}\n",
    "STrainAccuracyList = []\n",
    "STrainPrecisionList = []\n",
    "STrainRecallList = []\n",
    "STrainFscoreList = []\n",
    "STrainAUCList = []\n",
    "STestAccuracyList = []\n",
    "STestPrecisionList = []\n",
    "STestRecallList = []\n",
    "STestFscoreList = []\n",
    "STestAUCList = []"
   ]
  },
  {
   "cell_type": "code",
   "execution_count": 4,
   "metadata": {},
   "outputs": [],
   "source": [
    "#Supervised Classification with SVM\n",
    "for i in range (0,30):\n",
    "    #Train Test Split\n",
    "    BCTrainDF1, BCTestDF1, BCTrainTarget1, BCTestTarget1 = train_test_split(BCdf, BCTarget, test_size=0.2, stratify=BCTarget)\n",
    "\n",
    "    #Normalize the data\n",
    "    BCTestDFN = normalize(BCTestDF1)\n",
    "    BCTestDFN = pd.DataFrame(data = BCTestDFN)\n",
    "    BCTrainDFN = normalize(BCTrainDF1)\n",
    "    BCTrainDFN = pd.DataFrame(data=BCTrainDFN)\n",
    "\n",
    "    #Supervised, train an L1-penalized SVM to classify the data.\n",
    "    lsvcBC = LinearSVC(penalty = 'l1', dual=False, max_iter = 10000000) #C determined by cross validation below\n",
    "    lsvcBC.fit(BCTrainDFN, BCTrainTarget1)\n",
    "\n",
    "    #Cross validation to find best C value for supervised L1 penalized SVM\n",
    "    GSLSVM = GridSearchCV(lsvcBC, param_grid = Lparameters, n_jobs=-1, cv=5)\n",
    "    GSLSVM.fit(BCTrainDFN, BCTrainTarget1)\n",
    "    BestLSVM = GSLSVM.best_estimator_\n",
    "\n",
    "    #Supervised training dataset specs\n",
    "    BCTrainLSVCPred = BestLSVM.predict(BCTrainDFN)\n",
    "    precision1, recall1, fscore1, support1 = precision_recall_fscore_support(BCTrainTarget1, BCTrainLSVCPred)\n",
    "    desfun1 = BestLSVM.decision_function(BCTrainDFN)\n",
    "\n",
    "    #Supervised training scores\n",
    "    TrainAccuracy = BestLSVM.score(BCTrainDFN, BCTrainTarget1)\n",
    "    TrainPrecision = np.mean(precision1)\n",
    "    TrainRecall = np.mean(recall1)\n",
    "    TrainFscore = np.mean(fscore1)\n",
    "    TrainAUC = roc_auc_score(BCTrainTarget1, desfun1)\n",
    "\n",
    "    #Supervised test dataset specs\n",
    "    BCTestLSVCPred = BestLSVM.predict(BCTestDFN)\n",
    "    precision2, recall2, fscore2, support2 = precision_recall_fscore_support(BCTestTarget1, BCTestLSVCPred)\n",
    "    desfun2 = BestLSVM.decision_function(BCTestDFN)\n",
    "\n",
    "    #Supervised test scores\n",
    "    TestAccuracy = BestLSVM.score(BCTestDFN, BCTestTarget1)\n",
    "    TestPrecision = np.mean(precision2)\n",
    "    TestRecall = np.mean(recall2)\n",
    "    TestFscore = np.mean(fscore2)\n",
    "    TestAUC = roc_auc_score(BCTestTarget1, desfun2)\n",
    "    \n",
    "    STrainAccuracyList.append(TrainAccuracy)\n",
    "    STrainPrecisionList.append(TrainPrecision)\n",
    "    STrainRecallList.append(TrainRecall)\n",
    "    STrainFscoreList.append(TrainFscore)\n",
    "    STrainAUCList.append(TrainAUC)\n",
    "    STestAccuracyList.append(TestAccuracy)\n",
    "    STestPrecisionList.append(TestPrecision)\n",
    "    STestRecallList.append(TestRecall)\n",
    "    STestFscoreList.append(TestFscore)\n",
    "    STestAUCList.append(TestAUC)\n",
    "\n"
   ]
  },
  {
   "cell_type": "code",
   "execution_count": 5,
   "metadata": {},
   "outputs": [
    {
     "name": "stdout",
     "output_type": "stream",
     "text": [
      "The supervised learning mean training accuracy is 0.9806593406593407.\n",
      "The supervised learning mean training precision is 0.9800856248781746.\n",
      "The supervised learning mean training recall is 0.9785878912968696.\n",
      "The supervised learning mean training F-Score is 0.9793130848877266.\n",
      "The supervised learning mean training AUC is 0.9978837289301685.\n",
      "The supervised learning mean test accuracy is 0.962280701754386.\n",
      "The supervised learning mean test precision is 0.9614951524093913.\n",
      "The supervised learning mean test recall is 0.9579034391534391.\n",
      "The supervised learning mean test F-Score is 0.9592334112807289.\n",
      "The supervised learning mean test AUC is 0.9937720458553791.\n"
     ]
    }
   ],
   "source": [
    "print('The supervised learning mean training accuracy is {0}.'.format(statistics.mean(STrainAccuracyList)))\n",
    "print('The supervised learning mean training precision is {0}.'.format(statistics.mean(STrainPrecisionList)))\n",
    "print('The supervised learning mean training recall is {0}.'.format(statistics.mean(STrainRecallList)))\n",
    "print('The supervised learning mean training F-Score is {0}.'.format(statistics.mean(STrainFscoreList)))\n",
    "print('The supervised learning mean training AUC is {0}.'.format(statistics.mean(STrainAUCList)))\n",
    "\n",
    "print('The supervised learning mean test accuracy is {0}.'.format(statistics.mean(STestAccuracyList)))\n",
    "print('The supervised learning mean test precision is {0}.'.format(statistics.mean(STestPrecisionList)))\n",
    "print('The supervised learning mean test recall is {0}.'.format(statistics.mean(STestRecallList)))\n",
    "print('The supervised learning mean test F-Score is {0}.'.format(statistics.mean(STestFscoreList)))\n",
    "print('The supervised learning mean test AUC is {0}.'.format(statistics.mean(STestAUCList)))"
   ]
  },
  {
   "cell_type": "code",
   "execution_count": 6,
   "metadata": {},
   "outputs": [
    {
     "name": "stdout",
     "output_type": "stream",
     "text": [
      "<sklearn.metrics._plot.roc_curve.RocCurveDisplay object at 0x00000148C697B7C0>\n"
     ]
    },
    {
     "data": {
      "image/png": "[encoded data removed]",
      "text/plain": [
       "<Figure size 432x288 with 1 Axes>"
      ]
     },
     "metadata": {
      "needs_background": "light"
     },
     "output_type": "display_data"
    }
   ],
   "source": [
    "#Supervised training ROC\n",
    "print(plot_roc_curve(BestLSVM, BCTrainDFN, BCTrainTarget1)) #ROC curve"
   ]
  },
  {
   "cell_type": "code",
   "execution_count": 7,
   "metadata": {},
   "outputs": [
    {
     "name": "stdout",
     "output_type": "stream",
     "text": [
      "[[283   2]\n",
      " [  5 165]]\n"
     ]
    }
   ],
   "source": [
    "#Supervised training confusion matrix\n",
    "print(confusion_matrix(BCTrainTarget1, BCTrainLSVCPred))"
   ]
  },
  {
   "cell_type": "code",
   "execution_count": 8,
   "metadata": {},
   "outputs": [
    {
     "data": {
      "text/plain": [
       "<sklearn.metrics._plot.roc_curve.RocCurveDisplay at 0x148c69f12e0>"
      ]
     },
     "execution_count": 8,
     "metadata": {},
     "output_type": "execute_result"
    },
    {
     "data": {
      "image/png": "[encoded data removed]",
      "text/plain": [
       "<Figure size 432x288 with 1 Axes>"
      ]
     },
     "metadata": {
      "needs_background": "light"
     },
     "output_type": "display_data"
    }
   ],
   "source": [
    "#Supervised test ROC\n",
    "plot_roc_curve(BestLSVM, BCTestDFN, BCTestTarget1)"
   ]
  },
  {
   "cell_type": "code",
   "execution_count": 9,
   "metadata": {},
   "outputs": [
    {
     "name": "stdout",
     "output_type": "stream",
     "text": [
      "[[69  3]\n",
      " [ 3 39]]\n"
     ]
    }
   ],
   "source": [
    "#Supervised test confusion matrix\n",
    "print(confusion_matrix(BCTestTarget1, BCTestLSVCPred))"
   ]
  },
  {
   "cell_type": "markdown",
   "metadata": {},
   "source": [
    "__1. (b) ii. Semi-Supervised Learning: Select 50% of the positive class along with 50% of the negative class in the training set as labeled data and the rest as unlabeled data. Select them randomly.  \n",
    "A: Train an L1 penalized SVM to classify the labeled data. Use normalized data. Choose the penalty parameter using 5 fold cross validation.  \n",
    "B: Find the unlabeled data point that is farthest from the decision boundary of the SVM. Let the SVM label it (ignore the true label), and add it to the labeled data, and retrain the SVM. Continue this process until all unlabeled data are used. Test the final SVM on the test data and report the average accuracy, precision, recall, F1-score, and AUC for both training and test sets over M runs. Plot the ROC and report the confusion matrix for training and testing in one of the runs.__"
   ]
  },
  {
   "cell_type": "code",
   "execution_count": 10,
   "metadata": {},
   "outputs": [],
   "source": [
    "SSTrainAccuracyList = []\n",
    "SSTrainPrecisionList = []\n",
    "SSTrainRecallList = []\n",
    "SSTrainFscoreList = []\n",
    "SSTrainAUCList = []\n",
    "SSTestAccuracyList = []\n",
    "SSTestPrecisionList = []\n",
    "SSTestRecallList = []\n",
    "SSTestFscoreList = []\n",
    "SSTestAUCList = []"
   ]
  },
  {
   "cell_type": "code",
   "execution_count": 11,
   "metadata": {
    "collapsed": true
   },
   "outputs": [
    {
     "name": "stderr",
     "output_type": "stream",
     "text": [
      "C:\\Users\\chans\\anaconda3\\lib\\site-packages\\sklearn\\svm\\_base.py:976: ConvergenceWarning: Liblinear failed to converge, increase the number of iterations.\n",
      "  warnings.warn(\"Liblinear failed to converge, increase \"\n",
      "C:\\Users\\chans\\anaconda3\\lib\\site-packages\\sklearn\\svm\\_base.py:976: ConvergenceWarning: Liblinear failed to converge, increase the number of iterations.\n",
      "  warnings.warn(\"Liblinear failed to converge, increase \"\n"
     ]
    }
   ],
   "source": [
    "#Selecting 50% of positive class and 50% of negative class as labeled data and the rest as unlabeled data.\n",
    "#Train will be labeled and \"test\" will be used as unlabeled data.\n",
    "removed = []\n",
    "\n",
    "for i in range(0,30):\n",
    "    SSBCTrainDF, SSBCTestDF, SSBCTrainTarget, SSBCTestTarget = train_test_split(BCTrainDF, BCTrainTarget, test_size=0.5, stratify=BCTrainTarget)\n",
    "\n",
    "    BCTrainDFN2 = normalize(BCTrainDF)\n",
    "    BCTestDFN2 = normalize(BCTestDF)\n",
    "    SSBCTestDFN = normalize(SSBCTestDF)\n",
    "    SSBCTestDFN = pd.DataFrame(data = SSBCTestDFN)\n",
    "    SSBCTrainDFN = normalize(SSBCTrainDF)\n",
    "    SSBCTrainDFN = pd.DataFrame(data=SSBCTrainDFN)\n",
    "    SSBCTrainDFNN = SSBCTrainDFN\n",
    "    SSBCTestDFNN = SSBCTestDFN\n",
    "    SSBCTrainTargetN = SSBCTrainTarget.to_numpy()\n",
    "\n",
    "    #Semi-supervised, train an L1-penalized SVM on the labeled data\n",
    "    sslsvcBC = LinearSVC(penalty = 'l1', dual=False, max_iter=10000000)\n",
    "    sslsvcBC.fit(SSBCTrainDFN, SSBCTrainTarget)\n",
    "\n",
    "    #Cross validation to find best C value for semi-supervised L1 penalized SVM\n",
    "    SSGSLSVM = GridSearchCV(sslsvcBC, param_grid= Lparameters, n_jobs=-1, cv=5)\n",
    "    SSGSLSVM.fit(SSBCTrainDFN, SSBCTrainTarget)\n",
    "    SSBestLSVM = SSGSLSVM.best_estimator_\n",
    "\n",
    "\n",
    "    while len(SSBCTestDFNN) > 0:\n",
    "        #Find the unlabeled data point that is the farthest from the SVM decision boundary. \n",
    "        SSdecfun = SSBestLSVM.decision_function(SSBCTestDFNN)\n",
    "        SSdecfun1 = np.absolute(SSdecfun)\n",
    "        #ssmax = np.amax(SSdecfun1)\n",
    "        ssmaxindex = np.argmax(SSdecfun1)\n",
    "        farthest = SSBCTestDFN.iloc[[ssmaxindex]]\n",
    "\n",
    "        #Label this datapoint with the SVM\n",
    "        farthestlabel = SSBestLSVM.predict(farthest)\n",
    "\n",
    "        #Add this point back into the training dataframe\n",
    "        SSBCTrainDFNN = pd.concat([SSBCTrainDFNN, farthest])\n",
    "\n",
    "        #Remove this point from the unlabeled dataframe\n",
    "        SSBCTestDFNN = SSBCTestDFNN.drop([ssmaxindex])\n",
    "        SSBCTestDFNN = SSBCTestDFNN.reset_index(drop = True)\n",
    "\n",
    "        #Add this label into the training targets\n",
    "        SSBCTrainTargetN = np.append(SSBCTrainTargetN, farthestlabel)\n",
    "\n",
    "        #Retrain the SVM with the updated dataset\n",
    "        SSBestLSVM.fit(SSBCTrainDFNN, SSBCTrainTargetN)\n",
    "\n",
    "        removed.append(ssmaxindex)\n",
    "\n",
    "    #Supervised training dataset specs\n",
    "    SSBCTrainLSVCPred = SSBestLSVM.predict(BCTrainDFN2)\n",
    "    ssprecision1, ssrecall1, ssfscore1, sssupport1 = precision_recall_fscore_support(BCTrainTarget, SSBCTrainLSVCPred)\n",
    "    ssdesfun1 = SSBestLSVM.decision_function(BCTrainDFN2)\n",
    "\n",
    "    #Supervised training scores\n",
    "    SSTrainAccuracy = SSBestLSVM.score(BCTrainDFN2, BCTrainTarget)\n",
    "    SSTrainPrecision = np.mean(ssprecision1)\n",
    "    SSTrainRecall = np.mean(ssrecall1)\n",
    "    SSTrainFscore = np.mean(ssfscore1)\n",
    "    SSTrainAUC = roc_auc_score(BCTrainTarget, ssdesfun1)\n",
    "\n",
    "    #Supervised test dataset specs\n",
    "    SSBCTestLSVCPred = SSBestLSVM.predict(BCTestDFN2)\n",
    "    ssprecision2, ssrecall2, ssfscore2, sssupport2 = precision_recall_fscore_support(BCTestTarget, SSBCTestLSVCPred)\n",
    "    ssdesfun2 = SSBestLSVM.decision_function(BCTestDFN2)\n",
    "\n",
    "    #Supervised test scores\n",
    "    SSTestAccuracy = SSBestLSVM.score(BCTestDFN2, BCTestTarget)\n",
    "    SSTestPrecision = np.mean(ssprecision2)\n",
    "    SSTestRecall = np.mean(ssrecall2)\n",
    "    SSTestFscore = np.mean(ssfscore2)\n",
    "    SSTestAUC = roc_auc_score(BCTestTarget, ssdesfun2)\n",
    "\n",
    "    SSTrainAccuracyList.append(SSTrainAccuracy)\n",
    "    SSTrainPrecisionList.append(SSTrainPrecision)\n",
    "    SSTrainRecallList.append(SSTrainRecall)\n",
    "    SSTrainFscoreList.append(SSTrainFscore)\n",
    "    SSTrainAUCList.append(SSTrainAUC)\n",
    "    SSTestAccuracyList.append(SSTestAccuracy)\n",
    "    SSTestPrecisionList.append(SSTestPrecision)\n",
    "    SSTestRecallList.append(SSTestRecall)\n",
    "    SSTestFscoreList.append(SSTestFscore)\n",
    "    SSTestAUCList.append(SSTestAUC)"
   ]
  },
  {
   "cell_type": "code",
   "execution_count": 12,
   "metadata": {},
   "outputs": [
    {
     "name": "stdout",
     "output_type": "stream",
     "text": [
      "The semi-supervised learning mean training accuracy is 0.9661560904449307.\n",
      "The semi-supervised learning mean training precision is 0.9644760377851624.\n",
      "The semi-supervised learning mean training recall is 0.9634370015948963.\n",
      "The semi-supervised learning mean training F-Score is 0.9637983499421909.\n",
      "The semi-supervised learning mean training AUC is 0.9927275453591243.\n",
      "The semi-supervised learning mean test accuracy is 0.9318452380952381.\n",
      "The semi-supervised learning mean test precision is 0.930831377762679.\n",
      "The semi-supervised learning mean test recall is 0.9230562235199816.\n",
      "The semi-supervised learning mean test F-Score is 0.925832266302528.\n",
      "The semi-supervised learning mean test AUC is 0.9734341005381885.\n"
     ]
    }
   ],
   "source": [
    "print('The semi-supervised learning mean training accuracy is {0}.'.format(statistics.mean(SSTrainAccuracyList)))\n",
    "print('The semi-supervised learning mean training precision is {0}.'.format(statistics.mean(SSTrainPrecisionList)))\n",
    "print('The semi-supervised learning mean training recall is {0}.'.format(statistics.mean(SSTrainRecallList)))\n",
    "print('The semi-supervised learning mean training F-Score is {0}.'.format(statistics.mean(SSTrainFscoreList)))\n",
    "print('The semi-supervised learning mean training AUC is {0}.'.format(statistics.mean(SSTrainAUCList)))\n",
    "\n",
    "print('The semi-supervised learning mean test accuracy is {0}.'.format(statistics.mean(SSTestAccuracyList)))\n",
    "print('The semi-supervised learning mean test precision is {0}.'.format(statistics.mean(SSTestPrecisionList)))\n",
    "print('The semi-supervised learning mean test recall is {0}.'.format(statistics.mean(SSTestRecallList)))\n",
    "print('The semi-supervised learning mean test F-Score is {0}.'.format(statistics.mean(SSTestFscoreList)))\n",
    "print('The semi-supervised learning mean test AUC is {0}.'.format(statistics.mean(SSTestAUCList)))"
   ]
  },
  {
   "cell_type": "code",
   "execution_count": 13,
   "metadata": {},
   "outputs": [
    {
     "name": "stdout",
     "output_type": "stream",
     "text": [
      "<sklearn.metrics._plot.roc_curve.RocCurveDisplay object at 0x00000148C6A13DC0>\n"
     ]
    },
    {
     "data": {
      "image/png": "[encoded data removed]",
      "text/plain": [
       "<Figure size 432x288 with 1 Axes>"
      ]
     },
     "metadata": {
      "needs_background": "light"
     },
     "output_type": "display_data"
    }
   ],
   "source": [
    "#Semi-Supervised training ROC \n",
    "print(plot_roc_curve(SSBestLSVM, BCTrainDFN2, BCTrainTarget)) #ROC curve"
   ]
  },
  {
   "cell_type": "code",
   "execution_count": 14,
   "metadata": {},
   "outputs": [
    {
     "name": "stdout",
     "output_type": "stream",
     "text": [
      "[[278   8]\n",
      " [  9 162]]\n"
     ]
    }
   ],
   "source": [
    "#Semi-Supervised training confusion matrix \n",
    "print(confusion_matrix(BCTrainTarget, SSBCTrainLSVCPred))"
   ]
  },
  {
   "cell_type": "code",
   "execution_count": 15,
   "metadata": {},
   "outputs": [
    {
     "data": {
      "text/plain": [
       "<sklearn.metrics._plot.roc_curve.RocCurveDisplay at 0x148c6c4a910>"
      ]
     },
     "execution_count": 15,
     "metadata": {},
     "output_type": "execute_result"
    },
    {
     "data": {
      "image/png": "[encoded data removed]",
      "text/plain": [
       "<Figure size 432x288 with 1 Axes>"
      ]
     },
     "metadata": {
      "needs_background": "light"
     },
     "output_type": "display_data"
    }
   ],
   "source": [
    "#Semi-Supervised test ROC \n",
    "plot_roc_curve(SSBestLSVM, BCTestDFN2, BCTestTarget)"
   ]
  },
  {
   "cell_type": "code",
   "execution_count": 16,
   "metadata": {},
   "outputs": [
    {
     "name": "stdout",
     "output_type": "stream",
     "text": [
      "[[68  3]\n",
      " [ 7 34]]\n"
     ]
    }
   ],
   "source": [
    "#Semi-Supervised test confusion matrix \n",
    "print(confusion_matrix(BCTestTarget, SSBCTestLSVCPred))"
   ]
  },
  {
   "cell_type": "markdown",
   "metadata": {},
   "source": [
    "__1. (b) iii. Unsupervised Learning: Run k-means algorithm on the whole training set. Ignore the labels of the data, and assume k=2.  \n",
    "A: Run the k-means algorithm multiple times. Make sure to initialize the algorithm randomly. How do we ensure the algorithm is not trapped in a local minimum?  \n",
    "B: Compute the centers of the two clusters and find the closest 30 data points to each center. Read the true labels of those 30 data points and make a majority poll within them. The majority poll becomes the label predicted by k-means for the members of each cluster. Then, compare the labels provided by k-means with the true labels of the training data and report the average accuracy, precision, recall, F1-score, and AUC over M runs, and ROC and the confusion matrix for one of the runs. (see note regarding classification)__  "
   ]
  },
  {
   "cell_type": "code",
   "execution_count": 17,
   "metadata": {},
   "outputs": [
    {
     "data": {
      "text/plain": [
       "0.0"
      ]
     },
     "execution_count": 17,
     "metadata": {},
     "output_type": "execute_result"
    }
   ],
   "source": [
    "#Run k-means algorithm on the whole training set, assuming k=2.\n",
    "inertias = []\n",
    "for i in range(0,30):\n",
    "    BCkmeans = KMeans(n_clusters = 2, init = 'random').fit(BCdf)\n",
    "    inertia = BCkmeans.inertia_\n",
    "    inertias.append(inertia)\n",
    "statistics.stdev(inertias)"
   ]
  },
  {
   "cell_type": "markdown",
   "metadata": {},
   "source": [
    "We can tell that our algorithm isn't getting stuck in a local minimum by randomizing the initialization parameters and running the process many times. With each run we check the inertia, which is the sum of squared distances of samples to their closest cluster center. If this is unchanging, it indicates there are not other minima that we're missing."
   ]
  },
  {
   "cell_type": "code",
   "execution_count": 18,
   "metadata": {},
   "outputs": [],
   "source": [
    "#Compute the centers of the two clusters and find the closest 30 data points to each center. \n",
    "\n",
    "UBCtrainaccuracy = []\n",
    "UBCtrainprecision = []\n",
    "UBCtrainrecall = []\n",
    "UBCtrainfscore = []\n",
    "UBCtestaccuracy = []\n",
    "UBCtestprecision = []\n",
    "UBCtestrecall = []\n",
    "UBCtestfscore = []\n",
    "\n",
    "\n",
    "\n",
    "for i in range(0,30):\n",
    "    UBCTrainDF, UBCTestDF, UBCTrainTarget, UBCTestTarget = train_test_split(BCdf, BCTarget, test_size = 0.2, stratify = BCTarget)\n",
    "\n",
    "    BCkmeans = KMeans(n_clusters = 2, init = 'random').fit(UBCTrainDF)\n",
    "    #kmcenter = BCkmeans.cluster_centers_\n",
    "    transformed = BCkmeans.transform(UBCTrainDF)\n",
    "    transformedDF = pd.DataFrame(data=transformed, index=UBCTrainDF.index)\n",
    "    nearest0 = transformedDF.sort_values(0)\n",
    "    nearest1 = transformedDF.sort_values(1)\n",
    "    nearest0index = nearest0.index.values[0:30]\n",
    "    nearest1index = nearest1.index.values[0:30]\n",
    "\n",
    "    #Read the true labels of these 30 data points and take a majority poll within them. \n",
    "    cluster0index = []\n",
    "    cluster1index = []\n",
    "\n",
    "    for i in nearest0index:\n",
    "        p = UBCTrainTarget[i]\n",
    "        cluster0index.append(p)\n",
    "    cluster0index = pd.DataFrame(cluster0index)\n",
    "    cluster0label = cluster0index.mode()\n",
    "\n",
    "    for i in nearest1index:\n",
    "        p = UBCTrainTarget[i]\n",
    "        cluster1index.append(p)\n",
    "    cluster1index = pd.DataFrame(cluster1index)\n",
    "    cluster1label = cluster1index.mode()\n",
    "\n",
    "    #Assign these labels to each member of the cluster.\n",
    "\n",
    "    #training\n",
    "    BClabels = pd.DataFrame(data = BCkmeans.labels_)\n",
    "    BClabels = BClabels.replace(to_replace = 0, value = cluster0label[0])\n",
    "    BClabels = BClabels.replace(to_replace = 1, value = cluster1label[0])\n",
    "\n",
    "    #test\n",
    "    BCtestlabels = pd.DataFrame(data = BCkmeans.predict(UBCTestDF))\n",
    "    BCtestlabels = BCtestlabels.replace(to_replace = 0, value = cluster0label[0])\n",
    "    BCtestlabels = BCtestlabels.replace(to_replace = 1, value = cluster1label[0])\n",
    "\n",
    "    #training\n",
    "    BClabels = BClabels.squeeze()\n",
    "    UBCTrainTarget2 = UBCTrainTarget.reset_index(drop = True)\n",
    "    kmeansresult = UBCTrainTarget2.eq(BClabels)\n",
    "    kmeansresults = kmeansresult.value_counts(normalize = True)\n",
    "\n",
    "    #test\n",
    "    BCtestlabels = BCtestlabels.squeeze()\n",
    "    UBCTestTarget2 = UBCTestTarget.reset_index(drop = True)\n",
    "    kmeanstestresult = UBCTestTarget2.eq(BCtestlabels)\n",
    "    kmeanstestresults = kmeanstestresult.value_counts(normalize = True)\n",
    "\n",
    "    #training\n",
    "    precision3, recall3, fscore3, support3 = precision_recall_fscore_support(UBCTrainTarget, BClabels)\n",
    "    accuracy3 = kmeansresults[1] #accuracy\n",
    "    precision3 = np.mean(precision3) #precision\n",
    "    recall3 = np.mean(recall3) #recall\n",
    "    fscore3 = np.mean(fscore3) #F-score\n",
    "\n",
    "\n",
    "    #test\n",
    "    precision4, recall4, fscore4, support4 = precision_recall_fscore_support(UBCTestTarget, BCtestlabels)\n",
    "    accuracy4 = kmeanstestresults[1] #accuracy\n",
    "    precision4 = np.mean(precision4) #precision\n",
    "    recall4 = np.mean(recall4) #recall\n",
    "    fscore4 = np.mean(fscore4) #F-score\n",
    "    \n",
    "    UBCtrainaccuracy.append(accuracy3)\n",
    "    UBCtrainprecision.append(precision3)\n",
    "    UBCtrainrecall.append(recall3)\n",
    "    UBCtrainfscore.append(fscore3)\n",
    "    UBCtestaccuracy.append(accuracy4)\n",
    "    UBCtestprecision.append(precision4)\n",
    "    UBCtestrecall.append(recall4)\n",
    "    UBCtestfscore.append(fscore4)\n",
    "    "
   ]
  },
  {
   "cell_type": "markdown",
   "metadata": {},
   "source": [
    "__C: Classify test data based on their proximity to the centers of the clusters. Report the average accuracy, precision, recall, F1-score, and AUC over M runs, and ROC and the confusion matrix for one of the runs for the test data.__"
   ]
  },
  {
   "cell_type": "code",
   "execution_count": 19,
   "metadata": {},
   "outputs": [
    {
     "name": "stdout",
     "output_type": "stream",
     "text": [
      "The unsupervised learning mean training accuracy is 0.8513553113553114.\n",
      "The unsupervised learning mean training precision is 0.9010058419713723.\n",
      "The unsupervised learning mean training recall is 0.8020278637770898.\n",
      "The unsupervised learning mean training F-Score is 0.8232830397383978.\n",
      "The unsupervised learning mean test accuracy is 0.8476608187134503.\n",
      "The unsupervised learning mean test precision is 0.89980001137413.\n",
      "The unsupervised learning mean test recall is 0.7942460317460317.\n",
      "The unsupervised learning mean test F-Score is 0.8155224721370697.\n"
     ]
    }
   ],
   "source": [
    "print('The unsupervised learning mean training accuracy is {0}.'.format(statistics.mean(UBCtrainaccuracy)))\n",
    "print('The unsupervised learning mean training precision is {0}.'.format(statistics.mean(UBCtrainprecision)))\n",
    "print('The unsupervised learning mean training recall is {0}.'.format(statistics.mean(UBCtrainrecall)))\n",
    "print('The unsupervised learning mean training F-Score is {0}.'.format(statistics.mean(UBCtrainfscore)))\n",
    "print('The unsupervised learning mean test accuracy is {0}.'.format(statistics.mean(UBCtestaccuracy)))\n",
    "print('The unsupervised learning mean test precision is {0}.'.format(statistics.mean(UBCtestprecision)))\n",
    "print('The unsupervised learning mean test recall is {0}.'.format(statistics.mean(UBCtestrecall)))\n",
    "print('The unsupervised learning mean test F-Score is {0}.'.format(statistics.mean(UBCtestfscore)))"
   ]
  },
  {
   "cell_type": "code",
   "execution_count": 20,
   "metadata": {},
   "outputs": [
    {
     "data": {
      "text/plain": [
       "0.31176470588235294"
      ]
     },
     "execution_count": 20,
     "metadata": {},
     "output_type": "execute_result"
    }
   ],
   "source": [
    "#Training AUC (not very confident in this)\n",
    "auc3 = roc_auc_score(UBCTrainTarget, kmeansresult)\n",
    "auc3"
   ]
  },
  {
   "cell_type": "code",
   "execution_count": 21,
   "metadata": {},
   "outputs": [
    {
     "data": {
      "text/plain": [
       "array([[285,   0],\n",
       "       [ 64, 106]], dtype=int64)"
      ]
     },
     "execution_count": 21,
     "metadata": {},
     "output_type": "execute_result"
    }
   ],
   "source": [
    "#Training Confusion Matrix\n",
    "UBCcm3 = confusion_matrix(UBCTrainTarget2, BClabels)\n",
    "UBCcm3"
   ]
  },
  {
   "cell_type": "code",
   "execution_count": 22,
   "metadata": {},
   "outputs": [
    {
     "data": {
      "text/plain": [
       "0.2926587301587301"
      ]
     },
     "execution_count": 22,
     "metadata": {},
     "output_type": "execute_result"
    }
   ],
   "source": [
    "#Test AUC (not very confident in this)\n",
    "auc4 = roc_auc_score(UBCTestTarget, kmeanstestresult)\n",
    "auc4"
   ]
  },
  {
   "cell_type": "code",
   "execution_count": 23,
   "metadata": {},
   "outputs": [
    {
     "data": {
      "text/plain": [
       "array([[71,  1],\n",
       "       [18, 24]], dtype=int64)"
      ]
     },
     "execution_count": 23,
     "metadata": {},
     "output_type": "execute_result"
    }
   ],
   "source": [
    "#Test Confusion Matrix\n",
    "UBCcm4 = confusion_matrix(UBCTestTarget2, BCtestlabels)\n",
    "UBCcm4"
   ]
  },
  {
   "cell_type": "markdown",
   "metadata": {},
   "source": [
    "I couldn't figure out how to make an ROC curve using this data."
   ]
  },
  {
   "cell_type": "markdown",
   "metadata": {},
   "source": [
    "__1. (b) iv. Spectral Clustering: Repeat 1(b)iii using spectral clustering, which is clustering based on kernels (see note on clustering). Research what spectral clustering is. Use RBF kernel with gamma=1 or find a gamma for which the two clusters have the same balance as the one in the original data set (see note). Do not label data based on their proximity to the cluster center, because spectral clustering may give non-convex clusters. Instead, use fit-predict.__"
   ]
  },
  {
   "cell_type": "code",
   "execution_count": 24,
   "metadata": {},
   "outputs": [],
   "source": [
    "SCBCtrainaccuracy = []\n",
    "SCBCtrainprecision = []\n",
    "SCBCtrainrecall = []\n",
    "SCBCtrainfscore = []\n",
    "\n",
    "for i in range(0,30):\n",
    "\n",
    "    SCBCTrainDF, SCBCTestDF, SCBCTrainTarget, SCBCTestTarget = train_test_split(BCdf, BCTarget, test_size = 0.2, stratify = BCTarget)\n",
    "\n",
    "    SCBCTestDFN = normalize(SCBCTestDF)\n",
    "    SCBCTestDFN = pd.DataFrame(data = SCBCTestDFN)\n",
    "    SCBCTrainDFN = normalize(SCBCTrainDF)\n",
    "    SCBCTrainDFN = pd.DataFrame(data=SCBCTrainDFN)\n",
    "    SCBCTrainTargetN = SCBCTrainTarget.to_numpy()\n",
    "\n",
    "    SCBC = SpectralClustering(n_clusters = 2, gamma = 1, affinity = 'rbf')\n",
    "    SCBCTrainLabels = SCBC.fit_predict(SCBCTrainDFN)\n",
    "    SCBCTrainLabelsDF = pd.DataFrame(data=SCBCTrainLabels, index = SCBCTrainDF.index)\n",
    "    SCBCTrainLabel0 = SCBCTrainLabelsDF[SCBCTrainLabelsDF[0] == 0]\n",
    "    SCBCTrainLabel1 = SCBCTrainLabelsDF[SCBCTrainLabelsDF[0] == 1]\n",
    "    SCcluster0index = SCBCTrainLabel0.index.values\n",
    "    SCcluster1index = SCBCTrainLabel1.index.values\n",
    "\n",
    "    SCcluster0labels = []\n",
    "    SCcluster1labels = []\n",
    "\n",
    "    for i in SCcluster0index:\n",
    "        p = SCBCTrainTarget[i]\n",
    "        SCcluster0labels.append(p)\n",
    "    SCcluster0labels = pd.DataFrame(SCcluster0labels)\n",
    "    SCcluster0 = SCcluster0labels.mode()\n",
    "\n",
    "    for i in SCcluster1index:\n",
    "        p = SCBCTrainTarget[i]\n",
    "        SCcluster1labels.append(p)\n",
    "    SCcluster1labels = pd.DataFrame(SCcluster1labels)\n",
    "    SCcluster1 = SCcluster1labels.mode()\n",
    "\n",
    "    #Assign these labels to each member of the cluster\n",
    "    SCBCTrainLabelsDFT = SCBCTrainLabelsDF.replace(to_replace = 0, value = SCcluster0[0])\n",
    "    SCBCTrainLabelsDFT = SCBCTrainLabelsDFT.replace(to_replace = 1, value = SCcluster1[0])\n",
    "    SCBCTrainLabelsDFT = SCBCTrainLabelsDFT.squeeze()\n",
    "    SCresult = SCBCTrainTarget.eq(SCBCTrainLabelsDFT)\n",
    "    SCresults = SCresult.value_counts(normalize = True)\n",
    "\n",
    "    precision5, recall5, fscore5, support5 = precision_recall_fscore_support(SCBCTrainTarget, SCBCTrainLabelsDFT)\n",
    "    accuracy5 = SCresults[1] #accuracy\n",
    "    precision5 = np.mean(precision5) #precision\n",
    "    recall5 = np.mean(recall5) #recall\n",
    "    fscore5 = np.mean(fscore5) #F-score\n",
    "\n",
    "    SCBCtrainaccuracy.append(accuracy5)\n",
    "    SCBCtrainprecision.append(precision5)\n",
    "    SCBCtrainrecall.append(recall5)\n",
    "    SCBCtrainfscore.append(fscore5)"
   ]
  },
  {
   "cell_type": "code",
   "execution_count": 60,
   "metadata": {},
   "outputs": [],
   "source": [
    "#a method of determining test accuracy\n",
    "KNN = KNeighborsClassifier(n_neighbors=1).fit(SCBCTrainDFN, SCBCTrainLabelsDFT)\n",
    "KNNtest = KNN.predict(SCBCTestDFN)\n",
    "knntestscore = KNN.score(SCBCTestDFN, SCBCTestTarget)"
   ]
  },
  {
   "cell_type": "code",
   "execution_count": 63,
   "metadata": {},
   "outputs": [
    {
     "name": "stdout",
     "output_type": "stream",
     "text": [
      "The spectral clustering mean training accuracy is 0.8824908424908425.\n",
      "The spectral clustering mean training precision is 0.9074248032638785.\n",
      "The spectral clustering mean training recall is 0.8482834537323701.\n",
      "The spectral clustering mean training F-Score is 0.8660473693833673.\n",
      "The spectral clustering single test accuracy is 0.9210526315789473.\n"
     ]
    }
   ],
   "source": [
    "print('The spectral clustering mean training accuracy is {0}.'.format(statistics.mean(SCBCtrainaccuracy)))\n",
    "print('The spectral clustering mean training precision is {0}.'.format(statistics.mean(SCBCtrainprecision)))\n",
    "print('The spectral clustering mean training recall is {0}.'.format(statistics.mean(SCBCtrainrecall)))\n",
    "print('The spectral clustering mean training F-Score is {0}.'.format(statistics.mean(SCBCtrainfscore)))\n",
    "print('The spectral clustering single test accuracy is {0}.'.format(knntestscore)) "
   ]
  },
  {
   "cell_type": "code",
   "execution_count": 26,
   "metadata": {},
   "outputs": [
    {
     "data": {
      "text/plain": [
       "0.3470072239422085"
      ]
     },
     "execution_count": 26,
     "metadata": {},
     "output_type": "execute_result"
    }
   ],
   "source": [
    "#Spectral Clustering Training AUC (not very confident in this)\n",
    "auc5 = roc_auc_score(SCBCTrainTarget, SCresult)\n",
    "auc5"
   ]
  },
  {
   "cell_type": "code",
   "execution_count": 27,
   "metadata": {},
   "outputs": [
    {
     "data": {
      "text/plain": [
       "array([[280,   5],\n",
       "       [ 55, 115]], dtype=int64)"
      ]
     },
     "execution_count": 27,
     "metadata": {},
     "output_type": "execute_result"
    }
   ],
   "source": [
    "#Spectral Clustering Training Confusion Matrix\n",
    "UBCcm5 = confusion_matrix(SCBCTrainTarget, SCBCTrainLabelsDFT)\n",
    "UBCcm5"
   ]
  },
  {
   "cell_type": "markdown",
   "metadata": {},
   "source": [
    "__1. (b) v. Compare the results obtained by these methods.__"
   ]
  },
  {
   "cell_type": "markdown",
   "metadata": {},
   "source": [
    "Supervised learning certainly had the highest accuracy of all of the methods, with a mean test accuracy of 0.96. Semi-supervised had the next highest mean test accuracy, at 0.93. Unsupervised learning had the lowest of these first three methods, with a mean test accuracy of 0.85. My spectral clustering numbers were lower than standard unsupervised, although I'm not sure I implemented this method correctly. These results are not surprising. With each successive method, our classifier saw less of the true labels and had to make greater generalizations, so it is to be expected that test accuracy would drop."
   ]
  },
  {
   "cell_type": "markdown",
   "metadata": {},
   "source": [
    "<h1><center>2. Active Learning Using Support Vector Machines </center></h1>"
   ]
  },
  {
   "cell_type": "markdown",
   "metadata": {},
   "source": [
    "__2. (a) Download the banknote authentication data set. Choose 472 data points randomly as the test set and the remaining 900 points as the training set. This is a binary classification problem.__"
   ]
  },
  {
   "cell_type": "code",
   "execution_count": 28,
   "metadata": {},
   "outputs": [],
   "source": [
    "df = pd.read_csv('Data\\data_banknote_authentication.txt', header = None)\n",
    "target = df.iloc[:,4]\n",
    "df = df.drop(columns = 4)\n",
    "traindf, testdf, traintarget, testtarget = train_test_split(df, target, test_size = 0.3440)"
   ]
  },
  {
   "cell_type": "markdown",
   "metadata": {},
   "source": [
    "__2. (b) Repeat each of the following two procedures 50 times, giving 50 errors for 90 SVMs per each procedure.__"
   ]
  },
  {
   "cell_type": "markdown",
   "metadata": {},
   "source": [
    "__2. (b) i. Train a SVM with a pool of 10 randomly selected data points from the training set using linear kernel and L1 penalty. Select the penalty parameter using 5 fold cross validation (see note on parameters). Repeat this process by adding 10 other randomly selected data points to the pool, until all 900 points are used. Do NOT replace the samples back into the training set at each step. Calculate the test error for each SVM. This will give 90 SVMs that were trained using 10, 20, 30, ... 900 data points and their 90 test errors. This is passive learning.__"
   ]
  },
  {
   "cell_type": "code",
   "execution_count": 29,
   "metadata": {
    "collapsed": true
   },
   "outputs": [
    {
     "name": "stderr",
     "output_type": "stream",
     "text": [
      "C:\\Users\\chans\\anaconda3\\lib\\site-packages\\sklearn\\model_selection\\_split.py:670: UserWarning: The least populated class in y has only 2 members, which is less than n_splits=5.\n",
      "  warnings.warn((\"The least populated class in y has only %d\"\n",
      "C:\\Users\\chans\\anaconda3\\lib\\site-packages\\sklearn\\model_selection\\_split.py:670: UserWarning: The least populated class in y has only 4 members, which is less than n_splits=5.\n",
      "  warnings.warn((\"The least populated class in y has only %d\"\n",
      "C:\\Users\\chans\\anaconda3\\lib\\site-packages\\sklearn\\model_selection\\_split.py:670: UserWarning: The least populated class in y has only 4 members, which is less than n_splits=5.\n",
      "  warnings.warn((\"The least populated class in y has only %d\"\n",
      "C:\\Users\\chans\\anaconda3\\lib\\site-packages\\sklearn\\model_selection\\_split.py:670: UserWarning: The least populated class in y has only 3 members, which is less than n_splits=5.\n",
      "  warnings.warn((\"The least populated class in y has only %d\"\n",
      "C:\\Users\\chans\\anaconda3\\lib\\site-packages\\sklearn\\model_selection\\_split.py:670: UserWarning: The least populated class in y has only 4 members, which is less than n_splits=5.\n",
      "  warnings.warn((\"The least populated class in y has only %d\"\n",
      "C:\\Users\\chans\\anaconda3\\lib\\site-packages\\sklearn\\model_selection\\_split.py:670: UserWarning: The least populated class in y has only 4 members, which is less than n_splits=5.\n",
      "  warnings.warn((\"The least populated class in y has only %d\"\n",
      "C:\\Users\\chans\\anaconda3\\lib\\site-packages\\sklearn\\model_selection\\_split.py:670: UserWarning: The least populated class in y has only 3 members, which is less than n_splits=5.\n",
      "  warnings.warn((\"The least populated class in y has only %d\"\n",
      "C:\\Users\\chans\\anaconda3\\lib\\site-packages\\sklearn\\model_selection\\_split.py:670: UserWarning: The least populated class in y has only 4 members, which is less than n_splits=5.\n",
      "  warnings.warn((\"The least populated class in y has only %d\"\n",
      "C:\\Users\\chans\\anaconda3\\lib\\site-packages\\sklearn\\model_selection\\_split.py:670: UserWarning: The least populated class in y has only 4 members, which is less than n_splits=5.\n",
      "  warnings.warn((\"The least populated class in y has only %d\"\n",
      "C:\\Users\\chans\\anaconda3\\lib\\site-packages\\sklearn\\model_selection\\_split.py:670: UserWarning: The least populated class in y has only 3 members, which is less than n_splits=5.\n",
      "  warnings.warn((\"The least populated class in y has only %d\"\n",
      "C:\\Users\\chans\\anaconda3\\lib\\site-packages\\sklearn\\model_selection\\_split.py:670: UserWarning: The least populated class in y has only 4 members, which is less than n_splits=5.\n",
      "  warnings.warn((\"The least populated class in y has only %d\"\n",
      "C:\\Users\\chans\\anaconda3\\lib\\site-packages\\sklearn\\model_selection\\_split.py:670: UserWarning: The least populated class in y has only 4 members, which is less than n_splits=5.\n",
      "  warnings.warn((\"The least populated class in y has only %d\"\n",
      "C:\\Users\\chans\\anaconda3\\lib\\site-packages\\sklearn\\model_selection\\_split.py:670: UserWarning: The least populated class in y has only 4 members, which is less than n_splits=5.\n",
      "  warnings.warn((\"The least populated class in y has only %d\"\n",
      "C:\\Users\\chans\\anaconda3\\lib\\site-packages\\sklearn\\model_selection\\_split.py:670: UserWarning: The least populated class in y has only 4 members, which is less than n_splits=5.\n",
      "  warnings.warn((\"The least populated class in y has only %d\"\n",
      "C:\\Users\\chans\\anaconda3\\lib\\site-packages\\sklearn\\model_selection\\_split.py:670: UserWarning: The least populated class in y has only 4 members, which is less than n_splits=5.\n",
      "  warnings.warn((\"The least populated class in y has only %d\"\n",
      "C:\\Users\\chans\\anaconda3\\lib\\site-packages\\sklearn\\model_selection\\_split.py:670: UserWarning: The least populated class in y has only 4 members, which is less than n_splits=5.\n",
      "  warnings.warn((\"The least populated class in y has only %d\"\n",
      "C:\\Users\\chans\\anaconda3\\lib\\site-packages\\sklearn\\model_selection\\_split.py:670: UserWarning: The least populated class in y has only 3 members, which is less than n_splits=5.\n",
      "  warnings.warn((\"The least populated class in y has only %d\"\n",
      "C:\\Users\\chans\\anaconda3\\lib\\site-packages\\sklearn\\model_selection\\_split.py:670: UserWarning: The least populated class in y has only 3 members, which is less than n_splits=5.\n",
      "  warnings.warn((\"The least populated class in y has only %d\"\n",
      "C:\\Users\\chans\\anaconda3\\lib\\site-packages\\sklearn\\model_selection\\_split.py:670: UserWarning: The least populated class in y has only 2 members, which is less than n_splits=5.\n",
      "  warnings.warn((\"The least populated class in y has only %d\"\n",
      "C:\\Users\\chans\\anaconda3\\lib\\site-packages\\sklearn\\model_selection\\_split.py:670: UserWarning: The least populated class in y has only 3 members, which is less than n_splits=5.\n",
      "  warnings.warn((\"The least populated class in y has only %d\"\n",
      "C:\\Users\\chans\\anaconda3\\lib\\site-packages\\sklearn\\model_selection\\_split.py:670: UserWarning: The least populated class in y has only 4 members, which is less than n_splits=5.\n",
      "  warnings.warn((\"The least populated class in y has only %d\"\n",
      "C:\\Users\\chans\\anaconda3\\lib\\site-packages\\sklearn\\model_selection\\_split.py:670: UserWarning: The least populated class in y has only 3 members, which is less than n_splits=5.\n",
      "  warnings.warn((\"The least populated class in y has only %d\"\n",
      "C:\\Users\\chans\\anaconda3\\lib\\site-packages\\sklearn\\model_selection\\_split.py:670: UserWarning: The least populated class in y has only 4 members, which is less than n_splits=5.\n",
      "  warnings.warn((\"The least populated class in y has only %d\"\n",
      "C:\\Users\\chans\\anaconda3\\lib\\site-packages\\sklearn\\model_selection\\_split.py:670: UserWarning: The least populated class in y has only 4 members, which is less than n_splits=5.\n",
      "  warnings.warn((\"The least populated class in y has only %d\"\n",
      "C:\\Users\\chans\\anaconda3\\lib\\site-packages\\sklearn\\model_selection\\_split.py:670: UserWarning: The least populated class in y has only 3 members, which is less than n_splits=5.\n",
      "  warnings.warn((\"The least populated class in y has only %d\"\n",
      "C:\\Users\\chans\\anaconda3\\lib\\site-packages\\sklearn\\model_selection\\_split.py:670: UserWarning: The least populated class in y has only 4 members, which is less than n_splits=5.\n",
      "  warnings.warn((\"The least populated class in y has only %d\"\n",
      "C:\\Users\\chans\\anaconda3\\lib\\site-packages\\sklearn\\model_selection\\_split.py:670: UserWarning: The least populated class in y has only 4 members, which is less than n_splits=5.\n",
      "  warnings.warn((\"The least populated class in y has only %d\"\n",
      "C:\\Users\\chans\\anaconda3\\lib\\site-packages\\sklearn\\model_selection\\_split.py:670: UserWarning: The least populated class in y has only 4 members, which is less than n_splits=5.\n",
      "  warnings.warn((\"The least populated class in y has only %d\"\n",
      "C:\\Users\\chans\\anaconda3\\lib\\site-packages\\sklearn\\model_selection\\_split.py:670: UserWarning: The least populated class in y has only 4 members, which is less than n_splits=5.\n",
      "  warnings.warn((\"The least populated class in y has only %d\"\n",
      "C:\\Users\\chans\\anaconda3\\lib\\site-packages\\sklearn\\model_selection\\_split.py:670: UserWarning: The least populated class in y has only 1 members, which is less than n_splits=5.\n",
      "  warnings.warn((\"The least populated class in y has only %d\"\n",
      "C:\\Users\\chans\\anaconda3\\lib\\site-packages\\sklearn\\model_selection\\_split.py:670: UserWarning: The least populated class in y has only 2 members, which is less than n_splits=5.\n",
      "  warnings.warn((\"The least populated class in y has only %d\"\n",
      "C:\\Users\\chans\\anaconda3\\lib\\site-packages\\sklearn\\model_selection\\_split.py:670: UserWarning: The least populated class in y has only 4 members, which is less than n_splits=5.\n",
      "  warnings.warn((\"The least populated class in y has only %d\"\n",
      "C:\\Users\\chans\\anaconda3\\lib\\site-packages\\sklearn\\model_selection\\_split.py:670: UserWarning: The least populated class in y has only 4 members, which is less than n_splits=5.\n",
      "  warnings.warn((\"The least populated class in y has only %d\"\n",
      "C:\\Users\\chans\\anaconda3\\lib\\site-packages\\sklearn\\model_selection\\_split.py:670: UserWarning: The least populated class in y has only 3 members, which is less than n_splits=5.\n",
      "  warnings.warn((\"The least populated class in y has only %d\"\n",
      "C:\\Users\\chans\\anaconda3\\lib\\site-packages\\sklearn\\model_selection\\_split.py:670: UserWarning: The least populated class in y has only 4 members, which is less than n_splits=5.\n",
      "  warnings.warn((\"The least populated class in y has only %d\"\n"
     ]
    },
    {
     "name": "stderr",
     "output_type": "stream",
     "text": [
      "C:\\Users\\chans\\anaconda3\\lib\\site-packages\\sklearn\\model_selection\\_split.py:670: UserWarning: The least populated class in y has only 4 members, which is less than n_splits=5.\n",
      "  warnings.warn((\"The least populated class in y has only %d\"\n",
      "C:\\Users\\chans\\anaconda3\\lib\\site-packages\\sklearn\\model_selection\\_split.py:670: UserWarning: The least populated class in y has only 3 members, which is less than n_splits=5.\n",
      "  warnings.warn((\"The least populated class in y has only %d\"\n",
      "C:\\Users\\chans\\anaconda3\\lib\\site-packages\\sklearn\\model_selection\\_split.py:670: UserWarning: The least populated class in y has only 4 members, which is less than n_splits=5.\n",
      "  warnings.warn((\"The least populated class in y has only %d\"\n",
      "C:\\Users\\chans\\anaconda3\\lib\\site-packages\\sklearn\\model_selection\\_split.py:670: UserWarning: The least populated class in y has only 2 members, which is less than n_splits=5.\n",
      "  warnings.warn((\"The least populated class in y has only %d\"\n",
      "C:\\Users\\chans\\anaconda3\\lib\\site-packages\\sklearn\\model_selection\\_split.py:670: UserWarning: The least populated class in y has only 4 members, which is less than n_splits=5.\n",
      "  warnings.warn((\"The least populated class in y has only %d\"\n"
     ]
    }
   ],
   "source": [
    "alltesterrors = []\n",
    "\n",
    "for i in range (0,50):\n",
    "    traindf2 = traindf\n",
    "    testerrors = []\n",
    "\n",
    "\n",
    "    sampletraindf = traindf2.sample(0)\n",
    "\n",
    "    while len(traindf2) > 0:\n",
    "        newsample = traindf2.sample(10)\n",
    "        sampletraindf = pd.concat([sampletraindf, newsample])\n",
    "        sampletraintarget = traintarget.loc[sampletraindf.index]\n",
    "\n",
    "        traindf2 = traindf2.drop(index = newsample.index)\n",
    "\n",
    "        svm2 = LinearSVC(penalty = 'l1', dual = False, max_iter = 100000)\n",
    "        svm2.fit(sampletraindf, sampletraintarget)\n",
    "\n",
    "        gridsearch = GridSearchCV(svm2, param_grid = Lparameters, n_jobs = -1, cv=5)\n",
    "        gridsearch.fit(sampletraindf, sampletraintarget)\n",
    "        bestsvm = gridsearch.best_estimator_\n",
    "\n",
    "        testerror = bestsvm.score(testdf, testtarget)\n",
    "        testerrors.append(testerror)\n",
    "\n",
    "    alltesterrors.append(testerrors)"
   ]
  },
  {
   "cell_type": "markdown",
   "metadata": {},
   "source": [
    "__2. (b) ii. Train a SVM with a pool of 10 randomly selected data points from the training set using linear kernel and L1 penalty (see note on selection). Select the parameters of the SVM with 5 fold cross validation. Choose the 10 closest data points in the training set to the hyperplane of the SVM and add them to the pool. Do not replace the samples back into the training set. Train a new SVM using the pool. Repeat this process until all training data is used. This will give 90 SVMs that were trained using 10, 20, 30, ... 900 data points and their 90 test errors. This is active learning.__"
   ]
  },
  {
   "cell_type": "code",
   "execution_count": 30,
   "metadata": {
    "collapsed": true
   },
   "outputs": [
    {
     "name": "stderr",
     "output_type": "stream",
     "text": [
      "C:\\Users\\chans\\anaconda3\\lib\\site-packages\\sklearn\\model_selection\\_split.py:670: UserWarning: The least populated class in y has only 4 members, which is less than n_splits=5.\n",
      "  warnings.warn((\"The least populated class in y has only %d\"\n",
      "C:\\Users\\chans\\anaconda3\\lib\\site-packages\\sklearn\\model_selection\\_split.py:670: UserWarning: The least populated class in y has only 4 members, which is less than n_splits=5.\n",
      "  warnings.warn((\"The least populated class in y has only %d\"\n",
      "C:\\Users\\chans\\anaconda3\\lib\\site-packages\\sklearn\\svm\\_base.py:976: ConvergenceWarning: Liblinear failed to converge, increase the number of iterations.\n",
      "  warnings.warn(\"Liblinear failed to converge, increase \"\n",
      "C:\\Users\\chans\\anaconda3\\lib\\site-packages\\sklearn\\model_selection\\_split.py:670: UserWarning: The least populated class in y has only 3 members, which is less than n_splits=5.\n",
      "  warnings.warn((\"The least populated class in y has only %d\"\n",
      "C:\\Users\\chans\\anaconda3\\lib\\site-packages\\sklearn\\model_selection\\_split.py:670: UserWarning: The least populated class in y has only 4 members, which is less than n_splits=5.\n",
      "  warnings.warn((\"The least populated class in y has only %d\"\n",
      "C:\\Users\\chans\\anaconda3\\lib\\site-packages\\sklearn\\model_selection\\_split.py:670: UserWarning: The least populated class in y has only 4 members, which is less than n_splits=5.\n",
      "  warnings.warn((\"The least populated class in y has only %d\"\n",
      "C:\\Users\\chans\\anaconda3\\lib\\site-packages\\sklearn\\model_selection\\_split.py:670: UserWarning: The least populated class in y has only 4 members, which is less than n_splits=5.\n",
      "  warnings.warn((\"The least populated class in y has only %d\"\n",
      "C:\\Users\\chans\\anaconda3\\lib\\site-packages\\sklearn\\model_selection\\_split.py:670: UserWarning: The least populated class in y has only 4 members, which is less than n_splits=5.\n",
      "  warnings.warn((\"The least populated class in y has only %d\"\n",
      "C:\\Users\\chans\\anaconda3\\lib\\site-packages\\sklearn\\model_selection\\_split.py:670: UserWarning: The least populated class in y has only 3 members, which is less than n_splits=5.\n",
      "  warnings.warn((\"The least populated class in y has only %d\"\n",
      "C:\\Users\\chans\\anaconda3\\lib\\site-packages\\sklearn\\model_selection\\_split.py:670: UserWarning: The least populated class in y has only 4 members, which is less than n_splits=5.\n",
      "  warnings.warn((\"The least populated class in y has only %d\"\n",
      "C:\\Users\\chans\\anaconda3\\lib\\site-packages\\sklearn\\model_selection\\_split.py:670: UserWarning: The least populated class in y has only 4 members, which is less than n_splits=5.\n",
      "  warnings.warn((\"The least populated class in y has only %d\"\n",
      "C:\\Users\\chans\\anaconda3\\lib\\site-packages\\sklearn\\model_selection\\_split.py:670: UserWarning: The least populated class in y has only 4 members, which is less than n_splits=5.\n",
      "  warnings.warn((\"The least populated class in y has only %d\"\n",
      "C:\\Users\\chans\\anaconda3\\lib\\site-packages\\sklearn\\model_selection\\_split.py:670: UserWarning: The least populated class in y has only 3 members, which is less than n_splits=5.\n",
      "  warnings.warn((\"The least populated class in y has only %d\"\n",
      "C:\\Users\\chans\\anaconda3\\lib\\site-packages\\sklearn\\model_selection\\_split.py:670: UserWarning: The least populated class in y has only 4 members, which is less than n_splits=5.\n",
      "  warnings.warn((\"The least populated class in y has only %d\"\n",
      "C:\\Users\\chans\\anaconda3\\lib\\site-packages\\sklearn\\model_selection\\_split.py:670: UserWarning: The least populated class in y has only 4 members, which is less than n_splits=5.\n",
      "  warnings.warn((\"The least populated class in y has only %d\"\n",
      "C:\\Users\\chans\\anaconda3\\lib\\site-packages\\sklearn\\model_selection\\_split.py:670: UserWarning: The least populated class in y has only 3 members, which is less than n_splits=5.\n",
      "  warnings.warn((\"The least populated class in y has only %d\"\n",
      "C:\\Users\\chans\\anaconda3\\lib\\site-packages\\sklearn\\model_selection\\_split.py:670: UserWarning: The least populated class in y has only 4 members, which is less than n_splits=5.\n",
      "  warnings.warn((\"The least populated class in y has only %d\"\n",
      "C:\\Users\\chans\\anaconda3\\lib\\site-packages\\sklearn\\model_selection\\_split.py:670: UserWarning: The least populated class in y has only 2 members, which is less than n_splits=5.\n",
      "  warnings.warn((\"The least populated class in y has only %d\"\n",
      "C:\\Users\\chans\\anaconda3\\lib\\site-packages\\sklearn\\model_selection\\_split.py:670: UserWarning: The least populated class in y has only 4 members, which is less than n_splits=5.\n",
      "  warnings.warn((\"The least populated class in y has only %d\"\n",
      "C:\\Users\\chans\\anaconda3\\lib\\site-packages\\sklearn\\model_selection\\_split.py:670: UserWarning: The least populated class in y has only 3 members, which is less than n_splits=5.\n",
      "  warnings.warn((\"The least populated class in y has only %d\"\n",
      "C:\\Users\\chans\\anaconda3\\lib\\site-packages\\sklearn\\model_selection\\_split.py:670: UserWarning: The least populated class in y has only 4 members, which is less than n_splits=5.\n",
      "  warnings.warn((\"The least populated class in y has only %d\"\n",
      "C:\\Users\\chans\\anaconda3\\lib\\site-packages\\sklearn\\model_selection\\_split.py:670: UserWarning: The least populated class in y has only 3 members, which is less than n_splits=5.\n",
      "  warnings.warn((\"The least populated class in y has only %d\"\n",
      "C:\\Users\\chans\\anaconda3\\lib\\site-packages\\sklearn\\model_selection\\_split.py:670: UserWarning: The least populated class in y has only 3 members, which is less than n_splits=5.\n",
      "  warnings.warn((\"The least populated class in y has only %d\"\n",
      "C:\\Users\\chans\\anaconda3\\lib\\site-packages\\sklearn\\model_selection\\_split.py:670: UserWarning: The least populated class in y has only 4 members, which is less than n_splits=5.\n",
      "  warnings.warn((\"The least populated class in y has only %d\"\n",
      "C:\\Users\\chans\\anaconda3\\lib\\site-packages\\sklearn\\model_selection\\_split.py:670: UserWarning: The least populated class in y has only 3 members, which is less than n_splits=5.\n",
      "  warnings.warn((\"The least populated class in y has only %d\"\n",
      "C:\\Users\\chans\\anaconda3\\lib\\site-packages\\sklearn\\model_selection\\_split.py:670: UserWarning: The least populated class in y has only 2 members, which is less than n_splits=5.\n",
      "  warnings.warn((\"The least populated class in y has only %d\"\n",
      "C:\\Users\\chans\\anaconda3\\lib\\site-packages\\sklearn\\model_selection\\_split.py:670: UserWarning: The least populated class in y has only 4 members, which is less than n_splits=5.\n",
      "  warnings.warn((\"The least populated class in y has only %d\"\n",
      "C:\\Users\\chans\\anaconda3\\lib\\site-packages\\sklearn\\model_selection\\_split.py:670: UserWarning: The least populated class in y has only 4 members, which is less than n_splits=5.\n",
      "  warnings.warn((\"The least populated class in y has only %d\"\n",
      "C:\\Users\\chans\\anaconda3\\lib\\site-packages\\sklearn\\model_selection\\_split.py:670: UserWarning: The least populated class in y has only 4 members, which is less than n_splits=5.\n",
      "  warnings.warn((\"The least populated class in y has only %d\"\n",
      "C:\\Users\\chans\\anaconda3\\lib\\site-packages\\sklearn\\model_selection\\_split.py:670: UserWarning: The least populated class in y has only 4 members, which is less than n_splits=5.\n",
      "  warnings.warn((\"The least populated class in y has only %d\"\n",
      "C:\\Users\\chans\\anaconda3\\lib\\site-packages\\sklearn\\model_selection\\_split.py:670: UserWarning: The least populated class in y has only 2 members, which is less than n_splits=5.\n",
      "  warnings.warn((\"The least populated class in y has only %d\"\n",
      "C:\\Users\\chans\\anaconda3\\lib\\site-packages\\sklearn\\model_selection\\_split.py:670: UserWarning: The least populated class in y has only 4 members, which is less than n_splits=5.\n",
      "  warnings.warn((\"The least populated class in y has only %d\"\n",
      "C:\\Users\\chans\\anaconda3\\lib\\site-packages\\sklearn\\model_selection\\_split.py:670: UserWarning: The least populated class in y has only 4 members, which is less than n_splits=5.\n",
      "  warnings.warn((\"The least populated class in y has only %d\"\n",
      "C:\\Users\\chans\\anaconda3\\lib\\site-packages\\sklearn\\model_selection\\_split.py:670: UserWarning: The least populated class in y has only 4 members, which is less than n_splits=5.\n",
      "  warnings.warn((\"The least populated class in y has only %d\"\n",
      "C:\\Users\\chans\\anaconda3\\lib\\site-packages\\sklearn\\model_selection\\_split.py:670: UserWarning: The least populated class in y has only 3 members, which is less than n_splits=5.\n",
      "  warnings.warn((\"The least populated class in y has only %d\"\n"
     ]
    },
    {
     "name": "stderr",
     "output_type": "stream",
     "text": [
      "C:\\Users\\chans\\anaconda3\\lib\\site-packages\\sklearn\\model_selection\\_split.py:670: UserWarning: The least populated class in y has only 4 members, which is less than n_splits=5.\n",
      "  warnings.warn((\"The least populated class in y has only %d\"\n",
      "C:\\Users\\chans\\anaconda3\\lib\\site-packages\\sklearn\\model_selection\\_split.py:670: UserWarning: The least populated class in y has only 4 members, which is less than n_splits=5.\n",
      "  warnings.warn((\"The least populated class in y has only %d\"\n"
     ]
    }
   ],
   "source": [
    "alltesterrorsB = []\n",
    "\n",
    "for i in range(0,50):\n",
    "    traindf3 = traindf\n",
    "    testerrorsB = []\n",
    "    lenB = []\n",
    "\n",
    "    sampletraindfB = traindf3.sample(10)\n",
    "    sampletraintargetB = traintarget.loc[sampletraindfB.index]\n",
    "\n",
    "    svm3 = LinearSVC(penalty = 'l1', dual = False, max_iter = 100000)\n",
    "    svm3.fit(sampletraindfB, sampletraintargetB)\n",
    "\n",
    "    gridsearchB = GridSearchCV(svm3, param_grid = Lparameters, n_jobs = -1, cv=5)\n",
    "    gridsearchB.fit(sampletraindfB, sampletraintargetB)\n",
    "    bestsvmB = gridsearchB.best_estimator_\n",
    "\n",
    "    while len(traindf3) > 0:\n",
    "\n",
    "        svmdecfunc = bestsvmB.decision_function(traindf3)\n",
    "        svmdecfunc2 = np.absolute(svmdecfunc)\n",
    "        svmdecfunc2DF = pd.DataFrame(data = svmdecfunc2, index = traindf3.index)\n",
    "        sortedsvmdecfunc2DF = svmdecfunc2DF.sort_values(by=[0], axis=0)\n",
    "        newsampleBpoints = sortedsvmdecfunc2DF.iloc[0:10]\n",
    "        indices = newsampleBpoints.index.values\n",
    "        newsampleB = traindf3.loc[indices]\n",
    "\n",
    "\n",
    "\n",
    "        sampletraindfB = pd.concat([sampletraindfB, newsampleB])\n",
    "        sampletraintargetB = traintarget.loc[sampletraindfB.index]\n",
    "\n",
    "        traindf3 = traindf3.drop(index = newsampleB.index)\n",
    "\n",
    "        svm3 = LinearSVC(penalty = 'l1', dual = False, max_iter = 100000)\n",
    "        svm3.fit(sampletraindfB, sampletraintargetB)\n",
    "\n",
    "        gridsearchB = GridSearchCV(svm3, param_grid = Lparameters, n_jobs = -1, cv=5)\n",
    "        gridsearchB.fit(sampletraindfB, sampletraintargetB)\n",
    "        bestsvmB = gridsearchB.best_estimator_\n",
    "\n",
    "        testerrorB = bestsvmB.score(testdf, testtarget)\n",
    "        testerrorsB.append(testerrorB)\n",
    "        length = len(sampletraindfB)\n",
    "        lenB.append(length)\n",
    "    alltesterrorsB.append(testerrorsB)\n"
   ]
  },
  {
   "cell_type": "markdown",
   "metadata": {},
   "source": [
    "__2. (c) Average the 50 test errors for each of the incrementally trained 90 SVMs in parts ii and iii. This is effectively a Monte-Carlo simulation. Plot average test error versus number of training instances for both active and passive leaners on the same figure and report conclusions. Here, a learning curve is obtained by Monte-Carlo simulation.__"
   ]
  },
  {
   "cell_type": "code",
   "execution_count": 31,
   "metadata": {},
   "outputs": [
    {
     "data": {
      "image/png": "[encoded data removed]",
      "text/plain": [
       "<Figure size 432x288 with 1 Axes>"
      ]
     },
     "metadata": {
      "needs_background": "light"
     },
     "output_type": "display_data"
    }
   ],
   "source": [
    "more = [0]*4600\n",
    "\n",
    "for j in range (len(alltesterrors[0])):\n",
    "    something = []\n",
    "    for i in range(len(alltesterrors)):\n",
    "        something.append(alltesterrors[i][j])\n",
    "    more[j] = something\n",
    "more = [i for i in more if i != 0]\n",
    "\n",
    "means = []\n",
    "for i in range(len(more)):\n",
    "    mean = np.mean(more[i])\n",
    "    means.append(mean)\n",
    "\n",
    "moreB = [0]*4600\n",
    "\n",
    "for j in range (len(alltesterrorsB[0])):\n",
    "    somethingB = []\n",
    "    for i in range(len(alltesterrorsB)):\n",
    "        somethingB.append(alltesterrorsB[i][j])\n",
    "    moreB[j] = somethingB\n",
    "moreB = [i for i in moreB if i != 0]\n",
    "\n",
    "meansB = []\n",
    "for i in range(len(moreB)):\n",
    "    meanB = np.mean(moreB[i])\n",
    "    meansB.append(meanB)\n",
    "    \n",
    "xaxis = np.arange(0,90,1)\n",
    "plt.plot(xaxis, meansB)\n",
    "plt.plot(xaxis, means)\n",
    "plt.show()"
   ]
  },
  {
   "cell_type": "markdown",
   "metadata": {},
   "source": [
    "We can see that the second method (blue line) achieves higher scores earlier than does the first method (orange), as it is choosing datapoints closer to the hyperplane which carry more relevance to the position of the SVC, instead of choosing random points which often carry no relevance."
   ]
  }
 ],
 "metadata": {
  "kernelspec": {
   "display_name": "Python 3",
   "language": "python",
   "name": "python3"
  },
  "language_info": {
   "codemirror_mode": {
    "name": "ipython",
    "version": 3
   },
   "file_extension": ".py",
   "mimetype": "text/x-python",
   "name": "python",
   "nbconvert_exporter": "python",
   "pygments_lexer": "ipython3",
   "version": "3.8.3"
  }
 },
 "nbformat": 4,
 "nbformat_minor": 4
}
